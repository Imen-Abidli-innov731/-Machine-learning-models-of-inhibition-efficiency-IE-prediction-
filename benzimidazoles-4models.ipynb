{
 "cells": [
  {
   "cell_type": "code",
   "execution_count": 35,
   "metadata": {},
   "outputs": [
    {
     "name": "stdout",
     "output_type": "stream",
     "text": [
      "Requirement already satisfied: statsmodels in c:\\programdata\\anaconda3\\lib\\site-packages (0.12.0)\n",
      "Requirement already satisfied: numpy>=1.15 in c:\\programdata\\anaconda3\\lib\\site-packages (from statsmodels) (1.19.2)\n",
      "Requirement already satisfied: scipy>=1.1 in c:\\programdata\\anaconda3\\lib\\site-packages (from statsmodels) (1.5.2)\n",
      "Requirement already satisfied: pandas>=0.21 in c:\\programdata\\anaconda3\\lib\\site-packages (from statsmodels) (1.1.3)\n",
      "Requirement already satisfied: patsy>=0.5 in c:\\programdata\\anaconda3\\lib\\site-packages (from statsmodels) (0.5.1)\n",
      "Requirement already satisfied: pytz>=2017.2 in c:\\programdata\\anaconda3\\lib\\site-packages (from pandas>=0.21->statsmodels) (2020.1)\n",
      "Requirement already satisfied: python-dateutil>=2.7.3 in c:\\programdata\\anaconda3\\lib\\site-packages (from pandas>=0.21->statsmodels) (2.8.1)\n",
      "Requirement already satisfied: six in c:\\programdata\\anaconda3\\lib\\site-packages (from patsy>=0.5->statsmodels) (1.15.0)\n",
      "Requirement already satisfied: scipy in c:\\programdata\\anaconda3\\lib\\site-packages (1.5.2)\n",
      "Requirement already satisfied: numpy>=1.14.5 in c:\\programdata\\anaconda3\\lib\\site-packages (from scipy) (1.19.2)\n"
     ]
    }
   ],
   "source": [
    "! pip install statsmodels\n",
    "! pip install scipy\n",
    "import numpy as np\n",
    "import pandas as pd\n",
    "from scipy.stats import pearsonr\n",
    "from statsmodels.stats.outliers_influence import variance_inflation_factor\n",
    "from sklearn.preprocessing import StandardScaler\n",
    "from sklearn.model_selection import cross_val_score\n",
    "from sklearn.svm import SVR\n",
    "from sklearn.linear_model import LinearRegression\n",
    "from sklearn.ensemble import RandomForestRegressor\n",
    "from sklearn.ensemble import GradientBoostingRegressor\n",
    "import seaborn as sns\n",
    "import matplotlib.pyplot as plt\n",
    "plt.style.use ('ggplot')"
   ]
  },
  {
   "cell_type": "code",
   "execution_count": 36,
   "metadata": {},
   "outputs": [],
   "source": [
    "df = pd.read_csv ('C:/benzimidazoles/data-benzimidazoles.csv', sep=';')"
   ]
  },
  {
   "cell_type": "code",
   "execution_count": 37,
   "metadata": {},
   "outputs": [
    {
     "data": {
      "text/html": [
       "<div>\n",
       "<style scoped>\n",
       "    .dataframe tbody tr th:only-of-type {\n",
       "        vertical-align: middle;\n",
       "    }\n",
       "\n",
       "    .dataframe tbody tr th {\n",
       "        vertical-align: top;\n",
       "    }\n",
       "\n",
       "    .dataframe thead th {\n",
       "        text-align: right;\n",
       "    }\n",
       "</style>\n",
       "<table border=\"1\" class=\"dataframe\">\n",
       "  <thead>\n",
       "    <tr style=\"text-align: right;\">\n",
       "      <th></th>\n",
       "      <th>ENERGY</th>\n",
       "      <th>HOMO</th>\n",
       "      <th>LUMO</th>\n",
       "      <th>u</th>\n",
       "      <th>GapEnergy</th>\n",
       "      <th>ENegativity</th>\n",
       "      <th>Hardness</th>\n",
       "      <th>EPhylicity</th>\n",
       "      <th>ETransfert</th>\n",
       "      <th>BendEnergy</th>\n",
       "      <th>logP</th>\n",
       "      <th>MolecularArea</th>\n",
       "      <th>ExtractMass</th>\n",
       "      <th>HeatFormation</th>\n",
       "      <th>MolarRefractivity</th>\n",
       "      <th>MolecularWeight</th>\n",
       "      <th>EnthalpyEnergy</th>\n",
       "      <th>TotalEnergy</th>\n",
       "      <th>IEexp</th>\n",
       "    </tr>\n",
       "    <tr>\n",
       "      <th>molecules</th>\n",
       "      <th></th>\n",
       "      <th></th>\n",
       "      <th></th>\n",
       "      <th></th>\n",
       "      <th></th>\n",
       "      <th></th>\n",
       "      <th></th>\n",
       "      <th></th>\n",
       "      <th></th>\n",
       "      <th></th>\n",
       "      <th></th>\n",
       "      <th></th>\n",
       "      <th></th>\n",
       "      <th></th>\n",
       "      <th></th>\n",
       "      <th></th>\n",
       "      <th></th>\n",
       "      <th></th>\n",
       "      <th></th>\n",
       "    </tr>\n",
       "  </thead>\n",
       "  <tbody>\n",
       "    <tr>\n",
       "      <th>benzimidazole1</th>\n",
       "      <td>-379,9922251</td>\n",
       "      <td>-6,471190596</td>\n",
       "      <td>-0,856349052</td>\n",
       "      <td>5,3916</td>\n",
       "      <td>5,614841544</td>\n",
       "      <td>3,663769824</td>\n",
       "      <td>2,807420772</td>\n",
       "      <td>0,298833218</td>\n",
       "      <td>0,148932106</td>\n",
       "      <td>20,0248</td>\n",
       "      <td>1,0594</td>\n",
       "      <td>121,002</td>\n",
       "      <td>118,053</td>\n",
       "      <td>206,01</td>\n",
       "      <td>3,7124</td>\n",
       "      <td>118,139</td>\n",
       "      <td>354,72</td>\n",
       "      <td>48,6566</td>\n",
       "      <td>52,76</td>\n",
       "    </tr>\n",
       "    <tr>\n",
       "      <th>benzimidazole2</th>\n",
       "      <td>-839,6123236</td>\n",
       "      <td>-6,56343792</td>\n",
       "      <td>-0,949412724</td>\n",
       "      <td>5,2017</td>\n",
       "      <td>5,614025196</td>\n",
       "      <td>3,756425322</td>\n",
       "      <td>2,807012598</td>\n",
       "      <td>0,314184803</td>\n",
       "      <td>0,132449473</td>\n",
       "      <td>19,1304</td>\n",
       "      <td>1,771</td>\n",
       "      <td>137,976</td>\n",
       "      <td>152,014</td>\n",
       "      <td>169,93</td>\n",
       "      <td>4,2038</td>\n",
       "      <td>152,584</td>\n",
       "      <td>335,08</td>\n",
       "      <td>40,5897</td>\n",
       "      <td>52,8</td>\n",
       "    </tr>\n",
       "    <tr>\n",
       "      <th>benzimidazole3</th>\n",
       "      <td>-455,2514963</td>\n",
       "      <td>-6,184380332</td>\n",
       "      <td>-0,579062848</td>\n",
       "      <td>7,5201</td>\n",
       "      <td>5,605317484</td>\n",
       "      <td>3,38172159</td>\n",
       "      <td>2,802658742</td>\n",
       "      <td>0,25502661</td>\n",
       "      <td>0,199503135</td>\n",
       "      <td>22,952</td>\n",
       "      <td>1,0347</td>\n",
       "      <td>127,042</td>\n",
       "      <td>134,048</td>\n",
       "      <td>33,44</td>\n",
       "      <td>3,8655</td>\n",
       "      <td>134,138</td>\n",
       "      <td>210,19</td>\n",
       "      <td>45,8445</td>\n",
       "      <td>68,95</td>\n",
       "    </tr>\n",
       "  </tbody>\n",
       "</table>\n",
       "</div>"
      ],
      "text/plain": [
       "                      ENERGY          HOMO          LUMO       u    GapEnergy  \\\n",
       "molecules                                                                       \n",
       "benzimidazole1  -379,9922251  -6,471190596  -0,856349052  5,3916  5,614841544   \n",
       "benzimidazole2  -839,6123236   -6,56343792  -0,949412724  5,2017  5,614025196   \n",
       "benzimidazole3  -455,2514963  -6,184380332  -0,579062848  7,5201  5,605317484   \n",
       "\n",
       "                ENegativity     Hardness   EPhylicity   ETransfert BendEnergy  \\\n",
       "molecules                                                                       \n",
       "benzimidazole1  3,663769824  2,807420772  0,298833218  0,148932106    20,0248   \n",
       "benzimidazole2  3,756425322  2,807012598  0,314184803  0,132449473    19,1304   \n",
       "benzimidazole3   3,38172159  2,802658742   0,25502661  0,199503135     22,952   \n",
       "\n",
       "                  logP MolecularArea ExtractMass HeatFormation  \\\n",
       "molecules                                                        \n",
       "benzimidazole1  1,0594       121,002     118,053        206,01   \n",
       "benzimidazole2   1,771       137,976     152,014        169,93   \n",
       "benzimidazole3  1,0347       127,042     134,048         33,44   \n",
       "\n",
       "               MolarRefractivity MolecularWeight EnthalpyEnergy TotalEnergy  \\\n",
       "molecules                                                                     \n",
       "benzimidazole1            3,7124         118,139         354,72     48,6566   \n",
       "benzimidazole2            4,2038         152,584         335,08     40,5897   \n",
       "benzimidazole3            3,8655         134,138         210,19     45,8445   \n",
       "\n",
       "                IEexp  \n",
       "molecules              \n",
       "benzimidazole1  52,76  \n",
       "benzimidazole2   52,8  \n",
       "benzimidazole3  68,95  "
      ]
     },
     "execution_count": 37,
     "metadata": {},
     "output_type": "execute_result"
    }
   ],
   "source": [
    "df=df.set_index('molecules')\n",
    "#df=df.drop(['Unnamed: 13'],axis=1)\n",
    "df.head(n=3)"
   ]
  },
  {
   "cell_type": "code",
   "execution_count": 38,
   "metadata": {},
   "outputs": [],
   "source": [
    "#Convert string to float variables\n",
    "data=df.copy()\n",
    "\n",
    "for column in data.columns:\n",
    "    data[column] =data[column].apply(lambda x: x.replace(',', '.'))\n",
    "    data[column]=data[column].astype('float')"
   ]
  },
  {
   "cell_type": "code",
   "execution_count": 39,
   "metadata": {},
   "outputs": [
    {
     "name": "stdout",
     "output_type": "stream",
     "text": [
      "            variables           VIF\n",
      "0              ENERGY  6.560305e+02\n",
      "1                HOMO           inf\n",
      "2                LUMO           inf\n",
      "3                   u  1.149011e+02\n",
      "4           GapEnergy           inf\n",
      "5         ENegativity           inf\n",
      "6            Hardness           inf\n",
      "7          EPhylicity  8.436050e+03\n",
      "8          ETransfert  3.340440e+00\n",
      "9          BendEnergy  1.035194e+03\n",
      "10               logP  5.641774e+01\n",
      "11      MolecularArea  8.218224e+04\n",
      "12        ExtractMass  3.501218e+07\n",
      "13      HeatFormation  7.889752e+03\n",
      "14  MolarRefractivity  1.455360e+05\n",
      "15    MolecularWeight  3.298209e+07\n",
      "16     EnthalpyEnergy  2.313663e+04\n",
      "17        TotalEnergy  3.872040e+02\n"
     ]
    },
    {
     "name": "stderr",
     "output_type": "stream",
     "text": [
      "C:\\ProgramData\\Anaconda3\\lib\\site-packages\\statsmodels\\stats\\outliers_influence.py:193: RuntimeWarning: divide by zero encountered in double_scalars\n",
      "  vif = 1. / (1. - r_squared_i)\n"
     ]
    }
   ],
   "source": [
    "\n",
    "#Calculation multicolinearity VIF\n",
    "\n",
    "\n",
    "def calc_vif(X):\n",
    "\n",
    "    # Calculating VIF\n",
    "    vif = pd.DataFrame()\n",
    "    vif[\"variables\"] = X.columns\n",
    "    vif[\"VIF\"] = [variance_inflation_factor(X.values, i) for i in range(X.shape[1])]\n",
    "\n",
    "    return(vif)\n",
    "x=data.copy().drop(['IEexp'],axis=1)    \n",
    "y=data['IEexp'].values\n",
    "\n",
    "\n",
    "\n",
    "vifMatrix=calc_vif(x)\n",
    "print(vifMatrix)"
   ]
  },
  {
   "cell_type": "code",
   "execution_count": 40,
   "metadata": {},
   "outputs": [
    {
     "name": "stdout",
     "output_type": "stream",
     "text": [
      "            variables     RCoef   p_value\n",
      "0              ENERGY -0.091973  0.699756\n",
      "1                HOMO  0.258902  0.270367\n",
      "2                LUMO  0.191770  0.417965\n",
      "3                   u -0.138829  0.559406\n",
      "4           GapEnergy -0.216141  0.360058\n",
      "5         ENegativity -0.266809  0.255479\n",
      "6            Hardness -0.216141  0.360058\n",
      "7          EPhylicity -0.239703  0.308725\n",
      "8          ETransfert  0.152122  0.522011\n",
      "9          BendEnergy  0.203221  0.390158\n",
      "10               logP  0.183441  0.438841\n",
      "11      MolecularArea  0.121658  0.609391\n",
      "12        ExtractMass  0.114232  0.631552\n",
      "13      HeatFormation  0.216557  0.359110\n",
      "14  MolarRefractivity  0.171899  0.468649\n",
      "15    MolecularWeight  0.115341  0.628223\n",
      "16     EnthalpyEnergy  0.220319  0.350616\n",
      "17        TotalEnergy  0.277885  0.235518\n"
     ]
    }
   ],
   "source": [
    "#Calculation of correlation matrix based on R - pearson between [-1,1]\n",
    "\n",
    "def calc_r_pearson(X,y):\n",
    "\n",
    "\n",
    "    r = pd.DataFrame()\n",
    "    r[\"variables\"] = X.columns\n",
    "    r[\"RCoef\"]=[pearsonr(X[column].values, y)[0] for column in X.columns] \n",
    "    r[\"p_value\"]=[pearsonr(X[column].values, y)[1] for column in X.columns]\n",
    "    \n",
    "    return(r)\n",
    "\n",
    "\n",
    "rMatrix=calc_r_pearson(x,y)\n",
    "print(rMatrix)"
   ]
  },
  {
   "cell_type": "code",
   "execution_count": 41,
   "metadata": {
    "scrolled": true
   },
   "outputs": [
    {
     "data": {
      "image/png": "[encoded data removed]",
      "text/plain": [
       "<Figure size 1296x576 with 6 Axes>"
      ]
     },
     "metadata": {},
     "output_type": "display_data"
    }
   ],
   "source": [
    "#Here just we will create a scatter plot for best 6 variables the most correlated to IEsxp based on p_value\n",
    "rMatrix6=rMatrix.sort_values(by='p_value', axis=0, ascending=True)[:6]\n",
    "\n",
    "\n",
    "\n",
    "\n",
    "\n",
    "\n",
    "\n",
    "fig = plt.figure(figsize=(18,8))\n",
    "fig.subplots_adjust(hspace=0.6, wspace=0.6)\n",
    "for i,column in zip(range(1,7),rMatrix6['variables'].tolist()):\n",
    "    ax = fig.add_subplot(2, 3, i)\n",
    "    ax  = sns.regplot(x=column, y=\"IEexp\", data=data)\n",
    "    ax.title.set_text('Correlation = ' + \"{:.2f}\".format(rMatrix6 [rMatrix6['variables']==column]['RCoef'].tolist()[0]))\n",
    "    ax.set_xlabel(\"IEexp\", rotation=0)\n",
    "    ax.set_ylabel(column, rotation=45)"
   ]
  },
  {
   "cell_type": "code",
   "execution_count": 42,
   "metadata": {},
   "outputs": [
    {
     "data": {
      "text/plain": [
       "<bound method NDFrame.head of                          HOMO   ENegativity   EPhylicity HeatFormation  \\\n",
       "molecules                                                                \n",
       "benzimidazole1   -6,471190596   3,663769824  0,298833218        206,01   \n",
       "benzimidazole2    -6,56343792   3,756425322  0,314184803        169,93   \n",
       "benzimidazole3   -6,184380332    3,38172159   0,25502661         33,44   \n",
       "benzimidazole4     -5,8096766   3,146069134   0,23224497        219,46   \n",
       "benzimidazole5   -6,165876444   3,499139644  0,286960693        224,15   \n",
       "benzimidazole6    -6,52534168   3,969628208  0,385360788        149,29   \n",
       "benzimidazole7    -6,39200484   3,625401468  0,296924017          12,8   \n",
       "benzimidazole8    -6,32805758   3,557100352  0,285392418        198,82   \n",
       "benzimidazole9   -6,440441488   3,752071466  0,327290332        203,51   \n",
       "benzimidazole10   -6,25322568   4,043099528  0,462265858        365,68   \n",
       "benzimidazole11  -5,778927492   3,124299854  0,229816826         234,7   \n",
       "benzimidazole12  -5,948999992    3,35587057  0,271435239        222,14   \n",
       "benzimidazole13  -6,153359108   4,545969896  0,803548471        -28,94   \n",
       "benzimidazole14   -5,34843998   2,823067442  0,197240943        234,24   \n",
       "benzimidazole15  -5,275512892   2,863068494  0,212366584        234,24   \n",
       "benzimidazole16  -0,363002744    0,17347395  0,009923694        -42,39   \n",
       "benzimidazole17  -0,003265392   -0,00340145  0,000108465        -42,39   \n",
       "benzimidazole18  -6,186829376   4,558895406  0,797925765        -28,94   \n",
       "benzimidazole19   -5,75253224    3,12525226   0,23235061        272,93   \n",
       "benzimidazole20  -0,036463544  -0,030340934  0,000861256        220,79   \n",
       "\n",
       "                EnthalpyEnergy TotalEnergy  \n",
       "molecules                                   \n",
       "benzimidazole1          354,72     48,6566  \n",
       "benzimidazole2          335,08     40,5897  \n",
       "benzimidazole3          210,19     45,8445  \n",
       "benzimidazole4          413,46     42,5668  \n",
       "benzimidazole5           376,4     45,4456  \n",
       "benzimidazole6           343,5     49,4659  \n",
       "benzimidazole7          218,61     52,4478  \n",
       "benzimidazole8          421,88     48,2191  \n",
       "benzimidazole9          384,82      52,813  \n",
       "benzimidazole10         587,31     52,1111  \n",
       "benzimidazole11         457,05     50,3678  \n",
       "benzimidazole12         432,14     49,7893  \n",
       "benzimidazole13         240,97     54,7482  \n",
       "benzimidazole14         531,45     73,6832  \n",
       "benzimidazole15         531,45     75,7732  \n",
       "benzimidazole16         182,23      76,649  \n",
       "benzimidazole17         182,23     76,0389  \n",
       "benzimidazole18         240,97     54,3246  \n",
       "benzimidazole19         502,85     43,1732  \n",
       "benzimidazole20         472,71     96,3878  >"
      ]
     },
     "execution_count": 42,
     "metadata": {},
     "output_type": "execute_result"
    }
   ],
   "source": [
    "df1=df.drop(['ENERGY','LUMO','u', 'GapEnergy', 'Hardness', 'ETransfert', 'BendEnergy', 'logP', 'MolecularArea', 'ExtractMass','MolarRefractivity', 'MolecularWeight', 'IEexp'], axis=1)\n",
    "\n",
    "\n",
    "df1.head"
   ]
  },
  {
   "cell_type": "code",
   "execution_count": 43,
   "metadata": {},
   "outputs": [],
   "source": [
    "#Standarazing and scaling data\n",
    "\n",
    "\n",
    "\n",
    "\n",
    "prepData = StandardScaler (with_mean=True, with_std=True).fit_transform(x)"
   ]
  },
  {
   "cell_type": "code",
   "execution_count": 44,
   "metadata": {},
   "outputs": [],
   "source": [
    "#Implementing 4 models of regression : SVMregression , Linear Regression,Gradient Boosting , RandomForest :\n",
    "\n",
    "svmREG=SVR(kernel='rbf',C=1)\n",
    "linearREG=LinearRegression(fit_intercept=True)\n",
    "gbtREG= GradientBoostingRegressor ()   \n",
    "rfREG = RandomForestRegressor()"
   ]
  },
  {
   "cell_type": "code",
   "execution_count": 45,
   "metadata": {},
   "outputs": [
    {
     "name": "stdout",
     "output_type": "stream",
     "text": [
      "14.61593181352022 29012.95031034156 22.340993905141282 17.959738554716317\n"
     ]
    }
   ],
   "source": [
    "#calculating RMSE for the 4 models\n",
    "svmRMSE=(cross_val_score(svmREG,x,y,cv=5,scoring='neg_root_mean_squared_error')*-1).mean()    \n",
    "linearRMSE=(cross_val_score(linearREG,x,y,cv=5,scoring='neg_root_mean_squared_error')*-1).mean() \n",
    "gbtRMSE = (cross_val_score(gbtREG,x,y,cv=5,scoring='neg_root_mean_squared_error')*-1).mean()\n",
    "rfRMSE=(cross_val_score(rfREG,x,y,cv=5,scoring='neg_root_mean_squared_error')*-1).mean()   \n",
    "print(svmRMSE,linearRMSE,gbtRMSE,rfRMSE)\n"
   ]
  },
  {
   "cell_type": "code",
   "execution_count": 46,
   "metadata": {},
   "outputs": [
    {
     "name": "stdout",
     "output_type": "stream",
     "text": [
      "0.08\n",
      "0.71\n",
      "0.86\n",
      "0.82\n"
     ]
    }
   ],
   "source": [
    "\n",
    "#calculating R2 for the two models\n",
    "\n",
    "svmSCE=np.absolute(cross_val_score(svmREG,x,y,cv=5,scoring='explained_variance')).mean()    \n",
    "svmSCT=np.absolute(cross_val_score(svmREG,x,y,cv=5,scoring='r2')).mean()    \n",
    "svmR2=np.round(svmSCE/svmSCT,2)\n",
    "\n",
    "print(svmR2)\n",
    "\n",
    "linearSCE=np.absolute(cross_val_score(linearREG,x,y,cv=5,scoring='explained_variance')).mean()    \n",
    "linearSCT=np.absolute(cross_val_score(linearREG,x,y,cv=5,scoring='r2')).mean()    \n",
    "linearR2=np.round(linearSCE/linearSCT,2)\n",
    "print(linearR2)\n",
    "\n",
    "\n",
    "gbtSCE = np.absolute(cross_val_score(gbtREG,x,y,cv=5,scoring='explained_variance')).mean()    \n",
    "gbtSCT = np.absolute(cross_val_score(gbtREG,x,y,cv=5,scoring='r2')).mean()    \n",
    "gbtR2=np.round(gbtSCE/gbtSCT,2)\n",
    "print(gbtR2)\n",
    "\n",
    "\n",
    "\n",
    "regrSCE=np.absolute(cross_val_score(rfREG,x,y,cv=5,scoring='explained_variance')).mean()    \n",
    "regrSCT=np.absolute(cross_val_score(rfREG,x,y,cv=5,scoring='r2')).mean()    \n",
    "regrR2=np.round(regrSCE/regrSCT,2)\n",
    "print(regrR2)"
   ]
  },
  {
   "cell_type": "code",
   "execution_count": null,
   "metadata": {},
   "outputs": [],
   "source": []
  }
 ],
 "metadata": {
  "kernelspec": {
   "display_name": "Python 3",
   "language": "python",
   "name": "python3"
  },
  "language_info": {
   "codemirror_mode": {
    "name": "ipython",
    "version": 3
   },
   "file_extension": ".py",
   "mimetype": "text/x-python",
   "name": "python",
   "nbconvert_exporter": "python",
   "pygments_lexer": "ipython3",
   "version": "3.8.5"
  }
 },
 "nbformat": 4,
 "nbformat_minor": 4
}
